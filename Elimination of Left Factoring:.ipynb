{
  "nbformat": 4,
  "nbformat_minor": 0,
  "metadata": {
    "colab": {
      "provenance": [],
      "authorship_tag": "ABX9TyP8T/m8jat05InCsUdCkhCY",
      "include_colab_link": true
    },
    "kernelspec": {
      "name": "python3",
      "display_name": "Python 3"
    },
    "language_info": {
      "name": "python"
    }
  },
  "cells": [
    {
      "cell_type": "markdown",
      "metadata": {
        "id": "view-in-github",
        "colab_type": "text"
      },
      "source": [
        "<a href=\"https://colab.research.google.com/github/Shakeela-Shaik/compiler-design/blob/main/Elimination%20of%20Left%20Factoring%3A.ipynb\" target=\"_parent\"><img src=\"https://colab.research.google.com/assets/colab-badge.svg\" alt=\"Open In Colab\"/></a>"
      ]
    },
    {
      "cell_type": "markdown",
      "source": [
        "**Ex.4 - Elimination of Left Factoring**:\n",
        "\n",
        "\n",
        "\n",
        "\n",
        "\n",
        "\n",
        "\n"
      ],
      "metadata": {
        "id": "3_4Ch4Hh4emZ"
      }
    },
    {
      "cell_type": "code",
      "source": [
        "from itertools import takewhile\n",
        "\n",
        "s= \"S->iEtS|iEtSeS|a\"\n",
        "\n",
        "def groupby(ls):\n",
        "    d = {}\n",
        "    ls = [ y[0] for y in rules ]\n",
        "    initial = list(set(ls))\n",
        "    for y in initial:\n",
        "        for i in rules:\n",
        "            if i.startswith(y):\n",
        "                if y not in d:\n",
        "                    d[y] = []\n",
        "                d[y].append(i)\n",
        "    return d\n",
        "\n",
        "def prefix(x):\n",
        "    return len(set(x)) == 1\n",
        "\n",
        "\n",
        "starting=\"\"\n",
        "rules=[]\n",
        "common=[]\n",
        "alphabetset=[\"A'\",\"B'\",\"C'\",\"D'\",\"E'\",\"F'\",\"G'\",\"H'\",\"I'\",\"J'\",\"K'\",\"L'\",\"M'\",\"N'\",\"O'\",\"P'\",\"Q'\",\"R'\",\"S'\",\"T'\",\"U'\",\"V'\",\"W'\",\"X'\",\"Y'\",\"Z'\"]\n",
        "s = s.replace(\" \", \"\").replace(\"\t\", \"\").replace(\"\\n\", \"\")\n",
        "\n",
        "while(True):\n",
        "    rules=[]\n",
        "    common=[]\n",
        "    split=s.split(\"->\")\n",
        "    starting=split[0]\n",
        "    for i in split[1].split(\"|\"):\n",
        "        rules.append(i)\n",
        "\n",
        "#logic for taking commons out\n",
        "    for k, l in groupby(rules).items():\n",
        "        r = [l[0] for l in takewhile(prefix, zip(*l))]\n",
        "        common.append(''.join(r))\n",
        "#end of taking commons\n",
        "    for i in common:\n",
        "        newalphabet=alphabetset.pop()\n",
        "        print(starting+\"->\"+i+newalphabet)\n",
        "        index=[]\n",
        "        for k in rules:\n",
        "            if(k.startswith(i)):\n",
        "                index.append(k)\n",
        "        print(newalphabet+\"->\",end=\"\")\n",
        "        for j in index[:-1]:\n",
        "            stringtoprint=j.replace(i,\"\", 1)+\"|\"\n",
        "            if stringtoprint==\"|\":\n",
        "                print(\"\\u03B5\",\"|\",end=\"\")\n",
        "            else:\n",
        "                print(j.replace(i,\"\", 1)+\"|\",end=\"\")\n",
        "        stringtoprint=index[-1].replace(i,\"\", 1)+\"|\"\n",
        "        if stringtoprint==\"|\":\n",
        "            print(\"\\u03B5\",\"\",end=\"\")\n",
        "        else:\n",
        "            print(index[-1].replace(i,\"\", 1)+\"\",end=\"\")\n",
        "        print(\"\")\n",
        "    break\n"
      ],
      "metadata": {
        "colab": {
          "base_uri": "https://localhost:8080/"
        },
        "id": "7gunEy064lwd",
        "outputId": "4698177a-a7f5-4c9b-c8f4-bc25a8d52b6b"
      },
      "execution_count": null,
      "outputs": [
        {
          "output_type": "stream",
          "name": "stdout",
          "text": [
            "S->aZ'\n",
            "Z'->ε \n",
            "S->iEtSY'\n",
            "Y'->ε |eS\n"
          ]
        }
      ]
    }
  ]
}